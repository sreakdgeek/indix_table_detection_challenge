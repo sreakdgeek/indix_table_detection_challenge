{
 "cells": [
  {
   "cell_type": "code",
   "execution_count": 3,
   "metadata": {
    "collapsed": false
   },
   "outputs": [],
   "source": [
    "import pandas as pd\n",
    "train = pd.read_csv('C:\\Users\\srikanthv\\Downloads\\data.csv', sep=',', header=0)"
   ]
  },
  {
   "cell_type": "code",
   "execution_count": 29,
   "metadata": {
    "collapsed": false
   },
   "outputs": [
    {
     "data": {
      "text/plain": [
       "'<table id=\"selectedProduct\">\\n<tr>\\n<th class=\"left\"></th>\\n<th class=\"title\" colspan=\"2\">Selected Product</th>\\n<th>Price</th>\\n<th>Make Selections</th>\\n<th>qty</th>\\n<th class=\"link\"><a class=\"backtotop\" href=\"#\" id=\"btt\">back to top</a></th>\\n</tr>\\n<tr valign=\"top\">\\n<td></td>\\n<td class=\"img\"> <!--requested size-%%%--><img alt=\"&amp;&amp;\" border=\"0\" css_style=\"\" src=\"//cdn.gandermountain.com/product/746/swatches/746134_AQUA_1.jpg?interpolation=lanczos-none&amp;downsize=50px:*\"/><!--using size-%%%-->\\n</td>\\n<td class=\"title\">\\n<h1>CORRCTCRAFT NTIQUE EXCEL BR DNT COVER</h1>\\n<p class=\"item\">Item # 746134</p>\\n</td>\\n<td class=\"price\">\\n<!--begin_item_pricing-->\\n<!--special_parse-->\\n<div class=\"price\"> \\xc2\\xa0<span class=\"regstrk\">$730.99</span></div>\\n<div class=\"saleprice\"> \\xc2\\xa0<span>$621.34</span></div>\\n<!--end_item_pricing-->\\n</td>\\n<td class=\"options\">\\n<!--begin_lower_selects-->\\n<!--special_parse-->\\n<div class=\"attributes\">\\n<!--begin_select_style_box-->\\n<!-- if selection is required -->\\n<div class=\"requiredAttr\">*</div><div class=\"attrRequired\"><select class=\"required_field\" id=\"lwrstyle1val1\" name=\"lwrstyle1val1\">\\n<option selected=\"selected\" value=\"\">Color</option>\\n<option value=\"Aqua\">Aqua - $621.34</option>\\n<option value=\"PacificBlue\">PacificBlue - $621.34</option>\\n<option value=\"Linen\">Linen - $621.34</option>\\n<option value=\"Gray\">Gray - $621.34</option>\\n<option value=\"Burgundy\">Burgundy - $621.34</option>\\n<option value=\"Black\">Black - $621.34</option>\\n<option value=\"Navy\">Navy - $621.34</option>\\n<option value=\"Natural\">Natural - $621.34</option>\\n<option value=\"Red\">Red - $621.34</option>\\n<option value=\"Forest Green\">Forest Green - $621.34</option>\\n</select></div>\\n<div style=\"clear: both; padding: 5px 0;\"></div>\\n<!--end_select_style_box-->\\n<div style=\"clear: both; padding: 5px 0;\">\\n<div class=\"requiredText\">*required</div>\\n</div>\\n</div>\\n<!--end_lower_selects-->\\n</td>\\n<td class=\"qty\" colspan=\"2\" valign=\"top\">\\n<!-- R.3 Editable Quantity Field -->\\n<input class=\"ignore quantity_input\" id=\"selectedQty\" maxlength=\"3\" name=\"quan1\" type=\"text\" value=\"0\">\\n<!-- R.4 Availability - should update w/ selection or show \"Make selections to see stock information\" -->\\n<div class=\"availMsg\">\\n<p class=\"stockstatus\"><span class=\"title\">Availability:</span><br/><span class=\"info\">Make Selections</span></p>\\n</div>\\n</input></td>\\n</tr>\\n</table>'"
      ]
     },
     "execution_count": 29,
     "metadata": {},
     "output_type": "execute_result"
    }
   ],
   "source": [
    "train['table-text'][0]"
   ]
  },
  {
   "cell_type": "code",
   "execution_count": 4,
   "metadata": {
    "collapsed": false
   },
   "outputs": [
    {
     "data": {
      "text/plain": [
       "label         91845\n",
       "table-text    91845\n",
       "url           91845\n",
       "dtype: int64"
      ]
     },
     "execution_count": 4,
     "metadata": {},
     "output_type": "execute_result"
    }
   ],
   "source": [
    "train[train['label'] == 'no'].count()\n",
    "train.count()"
   ]
  },
  {
   "cell_type": "code",
   "execution_count": 5,
   "metadata": {
    "collapsed": false
   },
   "outputs": [],
   "source": [
    "from sklearn import cross_validation\n",
    "train_split, cv_split = cross_validation.train_test_split(train, train_size=0.65)"
   ]
  },
  {
   "cell_type": "code",
   "execution_count": 6,
   "metadata": {
    "collapsed": false
   },
   "outputs": [
    {
     "data": {
      "text/plain": [
       "label         4196\n",
       "table-text    4196\n",
       "url           4196\n",
       "dtype: int64"
      ]
     },
     "execution_count": 6,
     "metadata": {},
     "output_type": "execute_result"
    }
   ],
   "source": [
    "train_split[train_split['label'] == 'yes'].count()"
   ]
  },
  {
   "cell_type": "code",
   "execution_count": 7,
   "metadata": {
    "collapsed": false,
    "scrolled": true
   },
   "outputs": [
    {
     "name": "stderr",
     "output_type": "stream",
     "text": [
      "C:\\Users\\srikanthv\\AppData\\Local\\Enthought\\Canopy\\User\\lib\\site-packages\\ipykernel\\__main__.py:6: SettingWithCopyWarning: \n",
      "A value is trying to be set on a copy of a slice from a DataFrame.\n",
      "Try using .loc[row_indexer,col_indexer] = value instead\n",
      "\n",
      "See the caveats in the documentation: http://pandas.pydata.org/pandas-docs/stable/indexing.html#indexing-view-versus-copy\n",
      "C:\\Users\\srikanthv\\AppData\\Local\\Enthought\\Canopy\\User\\lib\\site-packages\\ipykernel\\__main__.py:7: SettingWithCopyWarning: \n",
      "A value is trying to be set on a copy of a slice from a DataFrame.\n",
      "Try using .loc[row_indexer,col_indexer] = value instead\n",
      "\n",
      "See the caveats in the documentation: http://pandas.pydata.org/pandas-docs/stable/indexing.html#indexing-view-versus-copy\n"
     ]
    },
    {
     "name": "stdout",
     "output_type": "stream",
     "text": [
      "(32146, 1523944)\n",
      "(59699, 1523944)\n"
     ]
    }
   ],
   "source": [
    "from sklearn.feature_extraction.text import  TfidfVectorizer\n",
    "\n",
    "#str_replace = lambda str: str.replace('<', ' ').replace('>', ' ').replace('\\n', ' ').replace('\\r', ' ').replace('/', '')\n",
    "str_replace = lambda str: str.replace('\\n', ' ').replace('\\r', ' ').replace('/', '')\n",
    "\n",
    "train_split['table-text'] = train_split['table-text'].apply(str_replace)\n",
    "cv_split['table-text'] = cv_split['table-text'].apply(str_replace)\n",
    "\n",
    "#tfidf_transformer = TfidfVectorizer(ngram_range=(1,2),max_features=20000)\n",
    "tfidf_transformer = TfidfVectorizer(ngram_range=(1,3), stop_words='english', max_df=0.5)\n",
    "\n",
    "X_train_tfidf = tfidf_transformer.fit_transform(train_split['table-text'])\n",
    "X_train_tfidf.shape\n",
    "\n",
    "X_cv_tfidf = tfidf_transformer.transform(cv_split['table-text'])\n",
    "print(X_cv_tfidf.shape)\n",
    "print(X_train_tfidf.shape)\n"
   ]
  },
  {
   "cell_type": "code",
   "execution_count": 42,
   "metadata": {
    "collapsed": false
   },
   "outputs": [
    {
     "data": {
      "text/plain": [
       "(32146, 100000)"
      ]
     },
     "execution_count": 42,
     "metadata": {},
     "output_type": "execute_result"
    }
   ],
   "source": [
    "X_cv_tfidf[:,]"
   ]
  },
  {
   "cell_type": "code",
   "execution_count": 9,
   "metadata": {
    "collapsed": false,
    "scrolled": true
   },
   "outputs": [
    {
     "data": {
      "text/plain": [
       "0.99611149132084864"
      ]
     },
     "execution_count": 9,
     "metadata": {},
     "output_type": "execute_result"
    }
   ],
   "source": [
    "from sklearn.ensemble import RandomForestClassifier\n",
    "from sklearn.feature_selection import SelectKBest, chi2\n",
    "from sklearn.decomposition import IncrementalPCA\n",
    "from sklearn.metrics import accuracy_score\n",
    "forest = RandomForestClassifier(n_estimators = 60 )\n",
    "\n",
    "ch2 = SelectKBest(chi2, k=100000)\n",
    "X_train_tfidf = ch2.fit_transform(X_train_tfidf, train_split['label'])\n",
    "X_cv_tfidf = ch2.transform(X_cv_tfidf)\n",
    "\n",
    "forest = forest.fit(X_train_tfidf, train_split['label'])\n",
    "cv_predict = forest.predict(X_cv_tfidf)\n",
    "accuracy_score(cv_split['label'], cv_predict)"
   ]
  },
  {
   "cell_type": "code",
   "execution_count": 10,
   "metadata": {
    "collapsed": false,
    "scrolled": true
   },
   "outputs": [],
   "source": [
    "test = pd.read_csv('C:\\Users\\srikanthv\\Desktop\\\\blindset_table_out.csv', sep=',', header=0)"
   ]
  },
  {
   "cell_type": "code",
   "execution_count": 11,
   "metadata": {
    "collapsed": false
   },
   "outputs": [],
   "source": [
    "test['table-text'] = test['table-text'].apply(str_replace)\n",
    "X_test_tfidf = tfidf_transformer.transform(test['table-text'])\n",
    "X_test_tfidf = ch2.transform(X_test_tfidf)\n",
    "predict = forest.predict(X_test_tfidf)"
   ]
  },
  {
   "cell_type": "code",
   "execution_count": 13,
   "metadata": {
    "collapsed": false
   },
   "outputs": [],
   "source": [
    "import numpy as np\n",
    "np.savetxt(\"new_random_forest_submission.csv\", predict, fmt=\"%s\")"
   ]
  },
  {
   "cell_type": "code",
   "execution_count": 8,
   "metadata": {
    "collapsed": false
   },
   "outputs": [
    {
     "data": {
      "text/plain": [
       "array(['no', 'no', 'no', ..., 'no', 'no', 'no'], dtype=object)"
      ]
     },
     "execution_count": 8,
     "metadata": {},
     "output_type": "execute_result"
    }
   ],
   "source": [
    "predict"
   ]
  },
  {
   "cell_type": "code",
   "execution_count": 12,
   "metadata": {
    "collapsed": false
   },
   "outputs": [
    {
     "data": {
      "text/plain": [
       "<32146x20000 sparse matrix of type '<type 'numpy.float64'>'\n",
       "\twith 5376836 stored elements in Compressed Sparse Row format>"
      ]
     },
     "execution_count": 12,
     "metadata": {},
     "output_type": "execute_result"
    }
   ],
   "source": [
    "X_cv_tfidf"
   ]
  },
  {
   "cell_type": "code",
   "execution_count": 14,
   "metadata": {
    "collapsed": false
   },
   "outputs": [
    {
     "data": {
      "text/plain": [
       "array(['no', 'no', 'no', ..., 'no', 'no', 'no'], dtype=object)"
      ]
     },
     "execution_count": 14,
     "metadata": {},
     "output_type": "execute_result"
    }
   ],
   "source": [
    "cv_predict"
   ]
  },
  {
   "cell_type": "code",
   "execution_count": 16,
   "metadata": {
    "collapsed": false
   },
   "outputs": [],
   "source": [
    "np.savetxt(\"cross_validation.csv\", cv_predict, fmt=\"%s\")"
   ]
  },
  {
   "cell_type": "code",
   "execution_count": 17,
   "metadata": {
    "collapsed": false
   },
   "outputs": [
    {
     "data": {
      "text/plain": [
       "label         29997\n",
       "table-text    29997\n",
       "url           29997\n",
       "dtype: int64"
      ]
     },
     "execution_count": 17,
     "metadata": {},
     "output_type": "execute_result"
    }
   ],
   "source": [
    "cv_split[cv_split['label'] == 'no'].count()"
   ]
  },
  {
   "cell_type": "code",
   "execution_count": 21,
   "metadata": {
    "collapsed": false
   },
   "outputs": [
    {
     "data": {
      "text/plain": [
       "label         93.314876\n",
       "table-text    93.314876\n",
       "url           93.314876\n",
       "dtype: float64"
      ]
     },
     "execution_count": 21,
     "metadata": {},
     "output_type": "execute_result"
    }
   ],
   "source": [
    "(100-(cv_split[cv_split['label'] == 'yes'].count()/cv_split.count())*100)"
   ]
  },
  {
   "cell_type": "code",
   "execution_count": null,
   "metadata": {
    "collapsed": true
   },
   "outputs": [],
   "source": []
  }
 ],
 "metadata": {
  "kernelspec": {
   "display_name": "Python 2",
   "language": "python",
   "name": "python2"
  },
  "language_info": {
   "codemirror_mode": {
    "name": "ipython",
    "version": 2
   },
   "file_extension": ".py",
   "mimetype": "text/x-python",
   "name": "python",
   "nbconvert_exporter": "python",
   "pygments_lexer": "ipython2",
   "version": "2.7.10"
  }
 },
 "nbformat": 4,
 "nbformat_minor": 0
}
